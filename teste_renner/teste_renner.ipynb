{
 "cells": [
  {
   "cell_type": "markdown",
   "metadata": {},
   "source": [
    "# Teste Renner"
   ]
  },
  {
   "cell_type": "markdown",
   "metadata": {},
   "source": [
    "## Importação da bibliotecas"
   ]
  },
  {
   "cell_type": "code",
   "execution_count": 1,
   "metadata": {},
   "outputs": [],
   "source": [
    "import pandas as pd"
   ]
  },
  {
   "cell_type": "markdown",
   "metadata": {},
   "source": [
    "## Leitura do arquivo"
   ]
  },
  {
   "cell_type": "code",
   "execution_count": 2,
   "metadata": {},
   "outputs": [],
   "source": [
    "caminho = '/home/diegopaes/ml_projects/teste_renner/teste_renner/Teste Pesquisa Operacional - Dados.xlsx'\n",
    "df = pd.read_excel(caminho)"
   ]
  },
  {
   "cell_type": "markdown",
   "metadata": {},
   "source": [
    "## Definição de funções"
   ]
  },
  {
   "cell_type": "code",
   "execution_count": 3,
   "metadata": {},
   "outputs": [],
   "source": [
    "def organizar_caixas(caixas, capacidade_maxima):\n",
    "    ondas = []\n",
    "    item_por_onda = {}\n",
    "\n",
    "    # Função principal que organiza as caixas em ondas\n",
    "    for c, ic in caixas.items():\n",
    "        melhor_onda = melhor_onda_encontrada(caixas, ondas, ic, capacidade_maxima)\n",
    "        if melhor_onda is not None:\n",
    "            caixa_alocanda_na_onda(c, ic, melhor_onda, caixas, item_por_onda, ondas)\n",
    "        else:\n",
    "            criacao_nova_onda(c, ic, caixas, item_por_onda, ondas)\n",
    "\n",
    "    return ondas, item_por_onda\n",
    "\n",
    "# encontra a melhor onda com a menor quantidade de novos itens\n",
    "def melhor_onda_encontrada(caixas, ondas, itens_na_caixa, capacidade_maxima):\n",
    "    melhor_onda = None\n",
    "    menor_novos_itens = float('inf')\n",
    "    tot_itens_caixa = total_itens_caixa(itens_na_caixa)\n",
    "    \n",
    "    for onda in ondas:\n",
    "        tot_itens_onda = total_itens_onda(onda, caixas)\n",
    "        novo_total_itens_caixa = tot_itens_onda + tot_itens_caixa\n",
    "        if novo_total_itens_caixa <= capacidade_maxima:\n",
    "            novos_itens = calcular_novos_itens(onda, itens_na_caixa, caixas)\n",
    "            if novos_itens < menor_novos_itens:\n",
    "                melhor_onda = onda\n",
    "                menor_novos_itens = novos_itens\n",
    "\n",
    "    return melhor_onda\n",
    "\n",
    "# calcula o total de itens em uma caixa\n",
    "def total_itens_caixa(itens_na_caixa):\n",
    "    tot_quantidade = 0\n",
    "    for _, quantidade in itens_na_caixa:\n",
    "        tot_quantidade += quantidade\n",
    "    return tot_quantidade\n",
    "\n",
    "# calcula o total de itens em uma onda\n",
    "def total_itens_onda(onda, caixas):\n",
    "    total = 0\n",
    "    for c in onda:\n",
    "        for item in caixas[c]:\n",
    "            total += item[1]\n",
    "    return total\n",
    "\n",
    "# calcula quantos itens novos seriam inseridos em uma onda\n",
    "def calcular_novos_itens(onda, itens_na_caixa, caixas):\n",
    "    itens_existentes = item_existente(onda, caixas)\n",
    "    novos_itens = novo_item(itens_na_caixa, itens_existentes)\n",
    "    return len(novos_itens)\n",
    "    \n",
    "def item_existente(onda, caixas):\n",
    "    item_unico = set()\n",
    "    for caixa in onda:\n",
    "        for item, _ in caixas[caixa]:\n",
    "            item_unico.add(item)\n",
    "    return item_unico\n",
    "    \n",
    "def novo_item(itens_na_caixa, itens_existentes):\n",
    "    itens_novos = []\n",
    "    for item, _ in itens_na_caixa:\n",
    "        if item not in itens_existentes:\n",
    "            itens_novos.append(item)\n",
    "    return itens_novos\n",
    "    \n",
    "# aloca uma caixa em uma onda existente\n",
    "def caixa_alocanda_na_onda(caixa, itens_na_caixa, melhor_onda, caixas, item_por_onda, ondas):\n",
    "    melhor_onda.append(caixa)\n",
    "    atualizar_itens_por_onda(itens_na_caixa, item_por_onda, ondas.index(melhor_onda))\n",
    "\n",
    "# Função para criar uma nova onda e alocar a caixa nela\n",
    "def criacao_nova_onda(caixa, itens_na_caixa, caixas, item_por_onda, ondas):\n",
    "    nova_onda = [caixa]\n",
    "    ondas.append(nova_onda)\n",
    "    atualizar_itens_por_onda(itens_na_caixa, item_por_onda, len(ondas) - 1)\n",
    "\n",
    "# Função para atualizar o mapeamento de itens por onda\n",
    "def atualizar_itens_por_onda(itens_na_caixa, item_por_onda, onda_index):\n",
    "    for item, _ in itens_na_caixa:\n",
    "        if item not in item_por_onda:\n",
    "            item_por_onda[item] = set()\n",
    "        item_por_onda[item].add(onda_index)\n",
    "        \n",
    "def criacao_dataset(ondas):\n",
    "    dataset = []\n",
    "    for i, onda in enumerate(ondas):\n",
    "        for caixa in onda:\n",
    "            dataset.append((caixa, i+1))\n",
    "    return pd.DataFrame(dataset, columns=['Caixa', 'Onda'])\n"
   ]
  },
  {
   "cell_type": "markdown",
   "metadata": {},
   "source": [
    "## Modelo"
   ]
  },
  {
   "cell_type": "code",
   "execution_count": 4,
   "metadata": {},
   "outputs": [
    {
     "name": "stderr",
     "output_type": "stream",
     "text": [
      "/tmp/ipykernel_393811/722809153.py:4: DeprecationWarning: DataFrameGroupBy.apply operated on the grouping columns. This behavior is deprecated, and in a future version of pandas the grouping columns will be excluded from the operation. Either pass `include_groups=False` to exclude the groupings or explicitly select the grouping columns after groupby to silence this warning.\n",
      "  caixas = df.groupby('Caixa Id').apply(lambda x: list(zip(x['Item'], x['Peças']))).to_dict()\n"
     ]
    }
   ],
   "source": [
    "capacidade_maxima = 2000\n",
    "\n",
    "# Cria uma lista de caixas, onde cada caixa contém um conjunto de itens e suas quantidades\n",
    "caixas = df.groupby('Caixa Id').apply(lambda x: list(zip(x['Item'], x['Peças']))).to_dict()\n",
    "\n",
    "# Chama a função de organização de caixas\n",
    "ondas, item_por_onda = organizar_caixas(caixas, capacidade_maxima)\n",
    "\n",
    "# Cria um DataFrame para exportar as ondas\n",
    "ondas_df = criacao_dataset(ondas)\n",
    "\n",
    "# Exportar para um novo arquivo Excel\n",
    "nome_arquivo = 'caixas_em_ondas_minimizando_itens.xlsx'\n",
    "ondas_df.to_excel(nome_arquivo, index=False)"
   ]
  },
  {
   "cell_type": "code",
   "execution_count": null,
   "metadata": {},
   "outputs": [],
   "source": []
  }
 ],
 "metadata": {
  "kernelspec": {
   "display_name": ".venv",
   "language": "python",
   "name": "python3"
  },
  "language_info": {
   "codemirror_mode": {
    "name": "ipython",
    "version": 3
   },
   "file_extension": ".py",
   "mimetype": "text/x-python",
   "name": "python",
   "nbconvert_exporter": "python",
   "pygments_lexer": "ipython3",
   "version": "3.12.6"
  }
 },
 "nbformat": 4,
 "nbformat_minor": 2
}
